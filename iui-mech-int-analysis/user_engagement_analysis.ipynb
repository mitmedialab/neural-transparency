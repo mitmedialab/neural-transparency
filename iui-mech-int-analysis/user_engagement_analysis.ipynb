{
  "cells": [
    {
      "cell_type": "code",
      "execution_count": null,
      "metadata": {},
      "outputs": [],
      "source": [
        "import pandas as pd\n",
        "import numpy as np\n",
        "import matplotlib.pyplot as plt\n",
        "# import seaborn as sns\n",
        "\n",
        "# Set style for better-looking plots\n",
        "sns.set_style(\"whitegrid\")\n",
        "plt.rcParams['figure.figsize'] = (12, 6)"
      ]
    },
    {
      "cell_type": "code",
      "execution_count": null,
      "metadata": {},
      "outputs": [],
      "source": [
        "# Load the datasets\n",
        "conversations_df = pd.read_csv('data_clean/data_conversations.csv')\n",
        "participants_df = pd.read_csv('data_clean/data_participants.csv')\n",
        "persona_vectors_df = pd.read_csv('data_clean/persona_vectors.csv')\n",
        "\n",
        "print(\"Conversations shape:\", conversations_df.shape)\n",
        "print(\"Participants shape:\", participants_df.shape)\n",
        "print(\"Persona vectors shape:\", persona_vectors_df.shape)"
      ]
    },
    {
      "cell_type": "code",
      "execution_count": null,
      "metadata": {},
      "outputs": [],
      "source": [
        "# 1. Number of user interactions from conversations\n",
        "user_interactions = conversations_df[conversations_df['role'] == 'user'].groupby('participant_id').size().reset_index(name='num_interactions')\n",
        "\n",
        "# 2. Number of vectors generated (each row in persona_vectors represents one vector generation)\n",
        "vectors_generated = persona_vectors_df.groupby('firebase_id').size().reset_index(name='num_vectors_generated')\n",
        "\n",
        "# 3. Number of unique system prompts per participant\n",
        "unique_prompts = persona_vectors_df.groupby('firebase_id')['system_prompt'].nunique().reset_index(name='num_unique_prompts')\n",
        "\n",
        "print(\"Metrics calculated successfully\")"
      ]
    },
    {
      "cell_type": "code",
      "execution_count": null,
      "metadata": {},
      "outputs": [],
      "source": [
        "# Merge all engagement metrics\n",
        "engagement_df = participants_df[['firebase_id', 'prolific_id', 'condition_name']].copy()\n",
        "\n",
        "# Merge with calculated metrics\n",
        "engagement_df = engagement_df.merge(user_interactions, left_on='firebase_id', right_on='participant_id', how='left')\n",
        "engagement_df = engagement_df.merge(vectors_generated, on='firebase_id', how='left')\n",
        "engagement_df = engagement_df.merge(unique_prompts, on='firebase_id', how='left')\n",
        "\n",
        "# Drop duplicate column\n",
        "if 'participant_id' in engagement_df.columns:\n",
        "    engagement_df = engagement_df.drop('participant_id', axis=1)\n",
        "\n",
        "# Fill NaN values with 0\n",
        "engagement_df = engagement_df.fillna(0)\n",
        "\n",
        "# Convert to int\n",
        "engagement_df['num_interactions'] = engagement_df['num_interactions'].astype(int)\n",
        "engagement_df['num_vectors_generated'] = engagement_df['num_vectors_generated'].astype(int)\n",
        "engagement_df['num_unique_prompts'] = engagement_df['num_unique_prompts'].astype(int)\n",
        "\n",
        "print(f\"Total participants: {len(engagement_df)}\")\n",
        "engagement_df.head()"
      ]
    },
    {
      "cell_type": "code",
      "execution_count": null,
      "metadata": {},
      "outputs": [],
      "source": [
        "engagement_df.to_csv(\"model_data/user_engagement.csv\", index=False)"
      ]
    }
  ],
  "metadata": {
    "kernelspec": {
      "display_name": "Python 3",
      "language": "python",
      "name": "python3"
    },
    "language_info": {
      "codemirror_mode": {
        "name": "ipython",
        "version": 3
      },
      "file_extension": ".py",
      "mimetype": "text/x-python",
      "name": "python",
      "nbconvert_exporter": "python",
      "pygments_lexer": "ipython3",
      "version": "3.13.7"
    }
  },
  "nbformat": 4,
  "nbformat_minor": 2
}
